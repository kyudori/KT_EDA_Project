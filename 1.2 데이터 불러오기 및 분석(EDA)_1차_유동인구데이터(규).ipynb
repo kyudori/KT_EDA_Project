{
 "cells": [
  {
   "cell_type": "markdown",
   "id": "boxed-jamaica",
   "metadata": {
    "id": "boxed-jamaica"
   },
   "source": [
    "# 안녕하세요^^ \n",
    "## '서울시 생활정보 기반 대중교통 수요 분석 ' 과정에 오신 여러분을 환영합니다.\n",
    "* 본 과정에서는 실제 사례와 데이터를 기반으로 문제를 해결하는 전체 과정을 자기 주도형 실습으로 진행해볼 예정입니다.\n",
    "* 앞선 교육과정을 정리하는 마음과 지금까지 배운 내용을 바탕으로 문제 해결을 해볼게요!\n",
    "* 미니 프로젝트를 통한 문제 해결 과정 'A에서 Z까지', 지금부터 시작합니다!"
   ]
  },
  {
   "cell_type": "markdown",
   "id": "ef575059",
   "metadata": {
    "id": "ef575059"
   },
   "source": [
    "---"
   ]
  },
  {
   "cell_type": "markdown",
   "id": "f2bc4fa5",
   "metadata": {
    "id": "f2bc4fa5"
   },
   "source": [
    "# 데이터 분석부터 먼저 시작해보겠습니다.\n",
    "## \"구 별 유동인구 데이터\" 를 확인해 보도록 하겠습니다"
   ]
  },
  {
   "cell_type": "code",
   "execution_count": null,
   "id": "4c6ced42",
   "metadata": {
    "colab": {
     "base_uri": "https://localhost:8080/"
    },
    "id": "4c6ced42",
    "outputId": "cc36a1f0-b980-432c-ad22-1d697b038d84",
    "scrolled": true
   },
   "outputs": [],
   "source": [
    "# 필요 라이브러리부터 설치합니다.\n",
    "%pip install pandas seaborn"
   ]
  },
  {
   "cell_type": "markdown",
   "id": "revolutionary-farmer",
   "metadata": {
    "id": "revolutionary-farmer"
   },
   "source": [
    "## 기본전제\n",
    "* 처음에 제공되는 기본/추가 데이터는 'raw_data' 폴더에 있습니다.\n",
    "\n",
    "[기본 데이터]\n",
    "* 1.2 seoul_moving_month_4.csv\n",
    "\n",
    "[데이터 소개]\n",
    "* 서울 시 구별 이동 2022년 4월 데이터\n",
    "\n",
    "[변수 소개]\n",
    "* 도착시간 : 0 -> \"0:00~0:59\"를 의미 \n",
    "* 출발 자치구 : 자치구 코드\n",
    "* 성별 : F(여성), M(남성)\n",
    "* 나이 : 10 ~ 79세 (5세 단위), 0 ~ 10세, 80세 이상으로 구분\n",
    "* 유형 : H(야간상주지), W(주간상주지), E(기타)\n",
    "* 평균 이동 시간 : 동일 열 내 이동인구의 월 단위 평균 이동 시간 (10분단위)\n",
    "* 이동인구 : 추정 합산값으로 소수점 표출, 개인정보 비식별화를 위해 3명 미만의 경우 * 처리"
   ]
  },
  {
   "cell_type": "markdown",
   "id": "matched-broad",
   "metadata": {
    "id": "matched-broad"
   },
   "source": [
    "---"
   ]
  },
  {
   "cell_type": "markdown",
   "id": "warming-gentleman",
   "metadata": {
    "id": "warming-gentleman"
   },
   "source": [
    "# 1.데이터 불러오기\n",
    "## 모든 미니 프로젝트의 시작은 '데이터 불러오기' 부터라고 할 수 있습니다.\n",
    "+ KeyPoint : 불러오고자 하는 데이터에 따라 자유롭게 변수로 지정할 수 있다."
   ]
  },
  {
   "cell_type": "markdown",
   "id": "measured-administration",
   "metadata": {
    "id": "measured-administration"
   },
   "source": [
    "###  데이터 프레임을 불러오고 변수로 저장(여기서는 CSV 기준으로 진행)\n",
    "* csv : pd.read_csv(\"파일이름. csv\")\n",
    "* txt : pd.read_csv(\"파일이름. csv\", sep=\"구분자\")\n",
    "* xlsx : pd.read_excel('파일이름.xlsx')\n",
    "* pickle : pd.read_pickle(\"파일이름.pkl\") <br>\n",
    " [참고] pickle은 파이썬의 모든 객체를 파일로 저장할 수 있는 방법으로 DataFrame,List,Dict 등 모든 객체 저장 가능(특히 sklearn라이브러리를 통해 모델을 학습시키고, 저장할 때 많이 사용)"
   ]
  },
  {
   "cell_type": "markdown",
   "id": "vocational-animal",
   "metadata": {
    "id": "vocational-animal"
   },
   "source": [
    "#### [실습문제1] 데이터 로딩\n",
    "* Pandas 라이브러리를 활용해서 'seoul_moving_month_4_step1.csv' 데이터를 확인하세요.\n",
    "    * 아래에 'Pandas'를 Import하고 'seoul_moving_month_4_step1.csv'파일을 'seoul_moving'에 불러오고,  Shape을 확인하는 소스코드를 작성하고 실행해보세요.\n",
    "    * 데이터 파일 로딩시 참고 사항 \n",
    "        * 구분자(sep)는 ',' 입니다\n",
    "        * UTF-8 인코더를 사용해 주세요\n",
    "        * index column은 0번 열 입니다"
   ]
  },
  {
   "cell_type": "code",
   "execution_count": 1,
   "id": "saving-slope",
   "metadata": {
    "id": "saving-slope"
   },
   "outputs": [],
   "source": [
    "# 아래에 실습코드를 작성하고 결과를 확인합니다.\n",
    "import pandas as pd\n",
    "\n",
    "seoul_moving = pd.read_csv('1.2 seoul_moving_month_4.csv',sep=\",\", index_col = 0, encoding = 'UTF-8')"
   ]
  },
  {
   "cell_type": "code",
   "execution_count": 2,
   "id": "funny-subcommittee",
   "metadata": {
    "colab": {
     "base_uri": "https://localhost:8080/"
    },
    "id": "funny-subcommittee",
    "outputId": "7f4ae2ed-7209-47fc-b1b7-493493276f0e"
   },
   "outputs": [
    {
     "data": {
      "text/plain": [
       "(28923054, 10)"
      ]
     },
     "execution_count": 2,
     "metadata": {},
     "output_type": "execute_result"
    }
   ],
   "source": [
    "# 데이터 프레임의 Shape을 확인합니다.\n",
    "seoul_moving.shape"
   ]
  },
  {
   "cell_type": "markdown",
   "id": "73396b42",
   "metadata": {
    "id": "73396b42"
   },
   "source": [
    "---"
   ]
  },
  {
   "cell_type": "markdown",
   "id": "annoying-trout",
   "metadata": {
    "id": "annoying-trout"
   },
   "source": [
    "# 2.기본 정보 확인 및 클렌징\n",
    "\n",
    "+ 데이터 클렌징 : 결측치, 이상치 등을 제거하여 데이터 분석 결과가 왜곡 되는 문제를 방지하기 위한 정제 과정"
   ]
  },
  {
   "cell_type": "markdown",
   "id": "romantic-johnson",
   "metadata": {
    "id": "romantic-johnson"
   },
   "source": [
    "#### [실습문제2] 기본 정보 확인하기\n",
    "* 'seoul_moving' 데이터의 정보를 확인해보세요.\n",
    "* 'describe', 'info', 'head' 등 전부 활용해 보겠습니다."
   ]
  },
  {
   "cell_type": "code",
   "execution_count": 3,
   "id": "demographic-battery",
   "metadata": {
    "colab": {
     "base_uri": "https://localhost:8080/",
     "height": 206
    },
    "id": "demographic-battery",
    "outputId": "6938f277-d752-45ed-bed5-2e93d88289ca"
   },
   "outputs": [
    {
     "data": {
      "text/html": [
       "<div>\n",
       "<style scoped>\n",
       "    .dataframe tbody tr th:only-of-type {\n",
       "        vertical-align: middle;\n",
       "    }\n",
       "\n",
       "    .dataframe tbody tr th {\n",
       "        vertical-align: top;\n",
       "    }\n",
       "\n",
       "    .dataframe thead th {\n",
       "        text-align: right;\n",
       "    }\n",
       "</style>\n",
       "<table border=\"1\" class=\"dataframe\">\n",
       "  <thead>\n",
       "    <tr style=\"text-align: right;\">\n",
       "      <th></th>\n",
       "      <th>대상연월</th>\n",
       "      <th>요일</th>\n",
       "      <th>도착시간</th>\n",
       "      <th>출발 시군구 코드</th>\n",
       "      <th>도착 시군구 코드</th>\n",
       "      <th>성별</th>\n",
       "      <th>나이</th>\n",
       "      <th>이동유형</th>\n",
       "      <th>평균 이동 시간(분)</th>\n",
       "      <th>이동인구(합)</th>\n",
       "    </tr>\n",
       "  </thead>\n",
       "  <tbody>\n",
       "    <tr>\n",
       "      <th>0</th>\n",
       "      <td>202204</td>\n",
       "      <td>일</td>\n",
       "      <td>0</td>\n",
       "      <td>11010</td>\n",
       "      <td>11010</td>\n",
       "      <td>F</td>\n",
       "      <td>0</td>\n",
       "      <td>EE</td>\n",
       "      <td>10</td>\n",
       "      <td>28.02</td>\n",
       "    </tr>\n",
       "    <tr>\n",
       "      <th>1</th>\n",
       "      <td>202204</td>\n",
       "      <td>일</td>\n",
       "      <td>0</td>\n",
       "      <td>11010</td>\n",
       "      <td>11010</td>\n",
       "      <td>F</td>\n",
       "      <td>0</td>\n",
       "      <td>EH</td>\n",
       "      <td>10</td>\n",
       "      <td>27.52</td>\n",
       "    </tr>\n",
       "    <tr>\n",
       "      <th>2</th>\n",
       "      <td>202204</td>\n",
       "      <td>일</td>\n",
       "      <td>0</td>\n",
       "      <td>11010</td>\n",
       "      <td>11010</td>\n",
       "      <td>F</td>\n",
       "      <td>0</td>\n",
       "      <td>HE</td>\n",
       "      <td>10</td>\n",
       "      <td>27.83</td>\n",
       "    </tr>\n",
       "    <tr>\n",
       "      <th>3</th>\n",
       "      <td>202204</td>\n",
       "      <td>일</td>\n",
       "      <td>0</td>\n",
       "      <td>11010</td>\n",
       "      <td>11010</td>\n",
       "      <td>F</td>\n",
       "      <td>10</td>\n",
       "      <td>HW</td>\n",
       "      <td>10</td>\n",
       "      <td>6.05</td>\n",
       "    </tr>\n",
       "    <tr>\n",
       "      <th>4</th>\n",
       "      <td>202204</td>\n",
       "      <td>일</td>\n",
       "      <td>0</td>\n",
       "      <td>11010</td>\n",
       "      <td>11010</td>\n",
       "      <td>F</td>\n",
       "      <td>10</td>\n",
       "      <td>EH</td>\n",
       "      <td>90</td>\n",
       "      <td>5.95</td>\n",
       "    </tr>\n",
       "  </tbody>\n",
       "</table>\n",
       "</div>"
      ],
      "text/plain": [
       "     대상연월 요일  도착시간  출발 시군구 코드  도착 시군구 코드 성별  나이 이동유형  평균 이동 시간(분) 이동인구(합)\n",
       "0  202204  일     0      11010      11010  F   0   EE           10   28.02\n",
       "1  202204  일     0      11010      11010  F   0   EH           10   27.52\n",
       "2  202204  일     0      11010      11010  F   0   HE           10   27.83\n",
       "3  202204  일     0      11010      11010  F  10   HW           10    6.05\n",
       "4  202204  일     0      11010      11010  F  10   EH           90    5.95"
      ]
     },
     "execution_count": 3,
     "metadata": {},
     "output_type": "execute_result"
    }
   ],
   "source": [
    "# 아래에 실습코드를 작성하고 결과를 확인합니다.\n",
    "seoul_moving.head()"
   ]
  },
  {
   "cell_type": "code",
   "execution_count": 4,
   "id": "940a114a",
   "metadata": {
    "colab": {
     "base_uri": "https://localhost:8080/",
     "height": 300
    },
    "id": "940a114a",
    "outputId": "78fec88e-faf7-4427-ba4d-8cceb802151e"
   },
   "outputs": [
    {
     "data": {
      "text/html": [
       "<div>\n",
       "<style scoped>\n",
       "    .dataframe tbody tr th:only-of-type {\n",
       "        vertical-align: middle;\n",
       "    }\n",
       "\n",
       "    .dataframe tbody tr th {\n",
       "        vertical-align: top;\n",
       "    }\n",
       "\n",
       "    .dataframe thead th {\n",
       "        text-align: right;\n",
       "    }\n",
       "</style>\n",
       "<table border=\"1\" class=\"dataframe\">\n",
       "  <thead>\n",
       "    <tr style=\"text-align: right;\">\n",
       "      <th></th>\n",
       "      <th>대상연월</th>\n",
       "      <th>도착시간</th>\n",
       "      <th>출발 시군구 코드</th>\n",
       "      <th>도착 시군구 코드</th>\n",
       "      <th>나이</th>\n",
       "      <th>평균 이동 시간(분)</th>\n",
       "    </tr>\n",
       "  </thead>\n",
       "  <tbody>\n",
       "    <tr>\n",
       "      <th>count</th>\n",
       "      <td>28923054.0</td>\n",
       "      <td>2.892305e+07</td>\n",
       "      <td>2.892305e+07</td>\n",
       "      <td>2.892305e+07</td>\n",
       "      <td>2.892305e+07</td>\n",
       "      <td>2.892305e+07</td>\n",
       "    </tr>\n",
       "    <tr>\n",
       "      <th>mean</th>\n",
       "      <td>202204.0</td>\n",
       "      <td>1.365597e+01</td>\n",
       "      <td>1.712362e+04</td>\n",
       "      <td>1.719750e+04</td>\n",
       "      <td>4.279614e+01</td>\n",
       "      <td>3.279829e+01</td>\n",
       "    </tr>\n",
       "    <tr>\n",
       "      <th>std</th>\n",
       "      <td>0.0</td>\n",
       "      <td>5.849675e+00</td>\n",
       "      <td>9.046478e+03</td>\n",
       "      <td>9.063818e+03</td>\n",
       "      <td>1.777485e+01</td>\n",
       "      <td>2.584213e+01</td>\n",
       "    </tr>\n",
       "    <tr>\n",
       "      <th>min</th>\n",
       "      <td>202204.0</td>\n",
       "      <td>0.000000e+00</td>\n",
       "      <td>1.101000e+04</td>\n",
       "      <td>1.101000e+04</td>\n",
       "      <td>0.000000e+00</td>\n",
       "      <td>1.000000e+01</td>\n",
       "    </tr>\n",
       "    <tr>\n",
       "      <th>25%</th>\n",
       "      <td>202204.0</td>\n",
       "      <td>1.000000e+01</td>\n",
       "      <td>1.110000e+04</td>\n",
       "      <td>1.111000e+04</td>\n",
       "      <td>3.000000e+01</td>\n",
       "      <td>2.000000e+01</td>\n",
       "    </tr>\n",
       "    <tr>\n",
       "      <th>50%</th>\n",
       "      <td>202204.0</td>\n",
       "      <td>1.400000e+01</td>\n",
       "      <td>1.120000e+04</td>\n",
       "      <td>1.120000e+04</td>\n",
       "      <td>4.500000e+01</td>\n",
       "      <td>3.000000e+01</td>\n",
       "    </tr>\n",
       "    <tr>\n",
       "      <th>75%</th>\n",
       "      <td>202204.0</td>\n",
       "      <td>1.800000e+01</td>\n",
       "      <td>3.101400e+04</td>\n",
       "      <td>3.102100e+04</td>\n",
       "      <td>5.500000e+01</td>\n",
       "      <td>4.000000e+01</td>\n",
       "    </tr>\n",
       "    <tr>\n",
       "      <th>max</th>\n",
       "      <td>202204.0</td>\n",
       "      <td>2.300000e+01</td>\n",
       "      <td>3.900000e+04</td>\n",
       "      <td>3.900000e+04</td>\n",
       "      <td>8.000000e+01</td>\n",
       "      <td>7.700000e+02</td>\n",
       "    </tr>\n",
       "  </tbody>\n",
       "</table>\n",
       "</div>"
      ],
      "text/plain": [
       "             대상연월          도착시간     출발 시군구 코드     도착 시군구 코드            나이  \\\n",
       "count  28923054.0  2.892305e+07  2.892305e+07  2.892305e+07  2.892305e+07   \n",
       "mean     202204.0  1.365597e+01  1.712362e+04  1.719750e+04  4.279614e+01   \n",
       "std           0.0  5.849675e+00  9.046478e+03  9.063818e+03  1.777485e+01   \n",
       "min      202204.0  0.000000e+00  1.101000e+04  1.101000e+04  0.000000e+00   \n",
       "25%      202204.0  1.000000e+01  1.110000e+04  1.111000e+04  3.000000e+01   \n",
       "50%      202204.0  1.400000e+01  1.120000e+04  1.120000e+04  4.500000e+01   \n",
       "75%      202204.0  1.800000e+01  3.101400e+04  3.102100e+04  5.500000e+01   \n",
       "max      202204.0  2.300000e+01  3.900000e+04  3.900000e+04  8.000000e+01   \n",
       "\n",
       "        평균 이동 시간(분)  \n",
       "count  2.892305e+07  \n",
       "mean   3.279829e+01  \n",
       "std    2.584213e+01  \n",
       "min    1.000000e+01  \n",
       "25%    2.000000e+01  \n",
       "50%    3.000000e+01  \n",
       "75%    4.000000e+01  \n",
       "max    7.700000e+02  "
      ]
     },
     "execution_count": 4,
     "metadata": {},
     "output_type": "execute_result"
    }
   ],
   "source": [
    "# 아래에 실습코드를 작성하고 결과를 확인합니다.\n",
    "seoul_moving.describe()"
   ]
  },
  {
   "cell_type": "code",
   "execution_count": 5,
   "id": "7343fadf",
   "metadata": {
    "colab": {
     "base_uri": "https://localhost:8080/"
    },
    "id": "7343fadf",
    "outputId": "5c1eb8e2-3220-47f4-e979-841724e6e3a1"
   },
   "outputs": [
    {
     "name": "stdout",
     "output_type": "stream",
     "text": [
      "<class 'pandas.core.frame.DataFrame'>\n",
      "Int64Index: 28923054 entries, 0 to 968462\n",
      "Data columns (total 10 columns):\n",
      " #   Column       Dtype \n",
      "---  ------       ----- \n",
      " 0   대상연월         int64 \n",
      " 1   요일           object\n",
      " 2   도착시간         int64 \n",
      " 3   출발 시군구 코드    int64 \n",
      " 4   도착 시군구 코드    int64 \n",
      " 5   성별           object\n",
      " 6   나이           int64 \n",
      " 7   이동유형         object\n",
      " 8   평균 이동 시간(분)  int64 \n",
      " 9   이동인구(합)      object\n",
      "dtypes: int64(6), object(4)\n",
      "memory usage: 2.4+ GB\n"
     ]
    }
   ],
   "source": [
    "# 아래에 실습코드를 작성하고 결과를 확인합니다.\n",
    "seoul_moving.info()"
   ]
  },
  {
   "cell_type": "markdown",
   "id": "b90fd066",
   "metadata": {
    "id": "b90fd066"
   },
   "source": [
    "* 1번 열의 의미\n",
    "    * \" 2022년 1월 일요일에 11010(종로구)에서 11010(종로구)으로 이동하여 0시 ~ 0시 59분 사이에 도착했고, E(기타)에서 H(야간상주지(집))으로 이동한 0 ~ 10세 여성은 총 27.52명이며 이들의 평균 이동시간은 10분이다"
   ]
  },
  {
   "cell_type": "markdown",
   "id": "003322b3",
   "metadata": {
    "id": "003322b3"
   },
   "source": [
    "#### [실습문제3] 결측치 처리 ( NaN이 아닌 결측치를 처리 해봅시다)\n",
    "\n",
    "* '인구이동(합)' column은 이동 인구의 합산인데 object 타입입니다. \n",
    "\n",
    "    - 왜 일까요? \n",
    "\n",
    "    - Tip! (이동인구 : 추정 합산값으로 소수점 표출, 개인정보 비식별화를 위해 3명 미만의 경우 * 처리)\n",
    "\n",
    "    - 해당 값을 나름의 기준으로 변경하세요\n",
    "\n",
    "    - '인구이동(합)' 컬럼의 데이터 타입을 수치형으로 변경하세요 "
   ]
  },
  {
   "cell_type": "code",
   "execution_count": 6,
   "id": "703fc8b7",
   "metadata": {
    "id": "703fc8b7"
   },
   "outputs": [],
   "source": [
    "# 최빈값과 평균값을 알 수 없는 상황이라 중위값으로 대체\n",
    "import numpy as np\n",
    "seoul_moving['이동인구(합)'] = seoul_moving['이동인구(합)'].replace('*', '1')"
   ]
  },
  {
   "cell_type": "code",
   "execution_count": 7,
   "id": "3ec3c54b",
   "metadata": {
    "id": "3ec3c54b"
   },
   "outputs": [],
   "source": [
    "# 이동인구(합) column의 데이터 타입을 바꿔주세요\n",
    "seoul_moving['이동인구(합)'] = seoul_moving['이동인구(합)'].astype('float')"
   ]
  },
  {
   "cell_type": "markdown",
   "id": "3666e46c",
   "metadata": {
    "id": "3666e46c"
   },
   "source": [
    "#### [실습문제4] 이동유형, 요일, 성별 변수의 value수를 파악\n",
    "\n",
    "* 역시나 value_counts()를 활용해 봅시다."
   ]
  },
  {
   "cell_type": "code",
   "execution_count": 8,
   "id": "3cd0103e",
   "metadata": {
    "colab": {
     "base_uri": "https://localhost:8080/"
    },
    "id": "3cd0103e",
    "outputId": "7b386073-e941-4ca8-a006-f66def2dadbd",
    "scrolled": true
   },
   "outputs": [
    {
     "data": {
      "text/plain": [
       "EH    5757073\n",
       "HE    5520005\n",
       "EE    5085099\n",
       "WH    3108026\n",
       "WE    2809148\n",
       "HW    2695189\n",
       "EW    2304535\n",
       "WW    1026134\n",
       "HH     617845\n",
       "Name: 이동유형, dtype: int64"
      ]
     },
     "execution_count": 8,
     "metadata": {},
     "output_type": "execute_result"
    }
   ],
   "source": [
    "# 아래에 실습코드를 작성하고 결과를 확인합니다.\n",
    "seoul_moving['이동유형'].value_counts()"
   ]
  },
  {
   "cell_type": "code",
   "execution_count": 9,
   "id": "1cdd246f",
   "metadata": {
    "colab": {
     "base_uri": "https://localhost:8080/"
    },
    "id": "1cdd246f",
    "outputId": "c22f1e75-b745-44a8-d7c1-8f653618687e"
   },
   "outputs": [
    {
     "data": {
      "text/plain": [
       "M    16355029\n",
       "F    12568025\n",
       "Name: 성별, dtype: int64"
      ]
     },
     "execution_count": 9,
     "metadata": {},
     "output_type": "execute_result"
    }
   ],
   "source": [
    "# 아래에 실습코드를 작성하고 결과를 확인합니다.\n",
    "seoul_moving['성별'].value_counts()"
   ]
  },
  {
   "cell_type": "markdown",
   "id": "ba257395",
   "metadata": {
    "id": "ba257395"
   },
   "source": [
    "* 4월의 요일 수를 알려드릴게요\n",
    "    * 일 : 4, 월 : 4, 화 : 4, 수 : 4, 목 : 4, 금 : 5, 토 : 5"
   ]
  },
  {
   "cell_type": "code",
   "execution_count": 10,
   "id": "c3f440b9",
   "metadata": {
    "colab": {
     "base_uri": "https://localhost:8080/"
    },
    "id": "c3f440b9",
    "outputId": "9c1d71d3-e581-48c3-8e5b-73c6958b8f67"
   },
   "outputs": [
    {
     "data": {
      "text/plain": [
       "토    4690806\n",
       "금    4641881\n",
       "목    4011291\n",
       "수    3955646\n",
       "화    3926876\n",
       "월    3906272\n",
       "일    3790282\n",
       "Name: 요일, dtype: int64"
      ]
     },
     "execution_count": 10,
     "metadata": {},
     "output_type": "execute_result"
    }
   ],
   "source": [
    "# 아래에 실습코드를 작성하고 결과를 확인합니다.\n",
    "seoul_moving['요일'].value_counts()"
   ]
  },
  {
   "cell_type": "markdown",
   "id": "6356b00c",
   "metadata": {
    "id": "6356b00c"
   },
   "source": [
    "#### [실습문제5] 어느 요일의 심야 이동이 가장 많을까요?"
   ]
  },
  {
   "cell_type": "code",
   "execution_count": 11,
   "id": "470c3d5d",
   "metadata": {
    "colab": {
     "base_uri": "https://localhost:8080/"
    },
    "id": "470c3d5d",
    "outputId": "dc327a9f-28e8-49e1-e5e6-8b8326f2de3c"
   },
   "outputs": [
    {
     "name": "stdout",
     "output_type": "stream",
     "text": [
      "요일\n",
      "토    5190140.14\n",
      "금    4170963.57\n",
      "일    3514501.96\n",
      "목    3279650.58\n",
      "수    3172373.95\n",
      "화    3005079.60\n",
      "월    2479756.17\n",
      "Name: 이동인구(합), dtype: float64\n"
     ]
    }
   ],
   "source": [
    "# 아래에 실습코드를 작성하고 결과를 확인합니다.\n",
    "import pandas as pd\n",
    "import numpy as np\n",
    "\n",
    "seoul_midnight_moving = seoul_moving.loc[seoul_moving['도착시간']<=4]\n",
    "seoul_midnight_moving_sum = seoul_midnight_moving.groupby('요일')['이동인구(합)'].sum().sort_values(ascending = False)\n",
    "print(seoul_midnight_moving_sum)"
   ]
  },
  {
   "cell_type": "markdown",
   "id": "45594fc1",
   "metadata": {
    "id": "45594fc1"
   },
   "source": [
    "#### [실습문제6] 서울 지역의 데이터만 골라 보도록 하겠습니다.\n",
    "\n",
    "* 우리는 서울시의 데이터만 필요합니다!\n",
    "\n",
    "* 출발과 도착이 모두 서울인 데이터만 추출해 주세요."
   ]
  },
  {
   "cell_type": "code",
   "execution_count": 12,
   "id": "q-VQqf3VnQTO",
   "metadata": {
    "id": "q-VQqf3VnQTO"
   },
   "outputs": [],
   "source": [
    "condition = (seoul_moving['도착 시군구 코드'] >= 11010) & (seoul_moving['도착 시군구 코드'] <= 11250) & (seoul_moving['출발 시군구 코드'] >= 11010) & (seoul_moving['출발 시군구 코드'] <= 11250)"
   ]
  },
  {
   "cell_type": "code",
   "execution_count": 13,
   "id": "56wdBX0uoOZ4",
   "metadata": {
    "colab": {
     "base_uri": "https://localhost:8080/"
    },
    "id": "56wdBX0uoOZ4",
    "outputId": "bf4fc235-ba66-4891-bbcc-931c9b277a3a"
   },
   "outputs": [
    {
     "name": "stdout",
     "output_type": "stream",
     "text": [
      "        출발 시군구 코드  도착 시군구 코드\n",
      "0           11010      11010\n",
      "1           11010      11010\n",
      "2           11010      11010\n",
      "3           11010      11010\n",
      "4           11010      11010\n",
      "...           ...        ...\n",
      "920410      11250      11250\n",
      "920411      11250      11250\n",
      "920412      11250      11250\n",
      "920413      11250      11250\n",
      "920414      11250      11250\n",
      "\n",
      "[10655895 rows x 2 columns]\n"
     ]
    }
   ],
   "source": [
    "seoul_only_moving = seoul_moving[condition]\n",
    "print(seoul_only_moving[['출발 시군구 코드','도착 시군구 코드']])"
   ]
  },
  {
   "cell_type": "markdown",
   "id": "e968a0ae",
   "metadata": {
    "id": "e968a0ae"
   },
   "source": [
    "#### [실습문제7] 서울지역의 구 별로 groupby하여 데이터를 확인하겠습니다 (유동인구 기준)\n",
    "\n",
    "* 유출이 제일 많은 구는?\n",
    "\n",
    "* 유입이 제일 많은 구는?\n",
    "\n",
    "* 유출이 제일 적은 구는?\n",
    "\n",
    "* 유입이 제일 적은 구는?"
   ]
  },
  {
   "cell_type": "markdown",
   "id": "ab98b422",
   "metadata": {
    "id": "ab98b422"
   },
   "source": [
    "* 참고자료 서울 구별 코드\n",
    "    * 11010\t종로구\n",
    "    * 11020\t중구\n",
    "    * 11030\t용산구\n",
    "    * 11040\t성동구\n",
    "    * 11050\t광진구\n",
    "    * 11060\t동대문구\n",
    "    * 11070\t중랑구\n",
    "    * 11080\t성북구\n",
    "    * 11090\t강북구\n",
    "    * 11100\t도봉구\n",
    "    * 11110\t노원구\n",
    "    * 11120\t은평구\n",
    "    * 11130\t서대문구\n",
    "    * 11140\t마포구\n",
    "    * 11150\t양천구\n",
    "    * 11160\t강서구\n",
    "    * 11170\t구로구\n",
    "    * 11180\t금천구\n",
    "    * 11190\t영등포구\n",
    "    * 11200\t동작구\n",
    "    * 11210\t관악구\n",
    "    * 11220\t서초구\n",
    "    * 11230\t강남구\n",
    "    * 11240\t송파구\n",
    "    * 11250\t강동구"
   ]
  },
  {
   "cell_type": "code",
   "execution_count": 14,
   "id": "onygdFWJu9pJ",
   "metadata": {
    "colab": {
     "base_uri": "https://localhost:8080/"
    },
    "id": "onygdFWJu9pJ",
    "outputId": "ef751b29-2de7-4824-e5ca-6acd50a79b97",
    "scrolled": true
   },
   "outputs": [
    {
     "name": "stderr",
     "output_type": "stream",
     "text": [
      "C:\\Users\\Public\\Documents\\ESTsoft\\CreatorTemp\\ipykernel_22288\\2035764354.py:2: SettingWithCopyWarning: \n",
      "A value is trying to be set on a copy of a slice from a DataFrame.\n",
      "Try using .loc[row_indexer,col_indexer] = value instead\n",
      "\n",
      "See the caveats in the documentation: https://pandas.pydata.org/pandas-docs/stable/user_guide/indexing.html#returning-a-view-versus-a-copy\n",
      "  seoul_inout_moving[['출발 시군구 코드','도착 시군구 코드']] = seoul_inout_moving[['출발 시군구 코드','도착 시군구 코드']].astype('string')\n"
     ]
    }
   ],
   "source": [
    "seoul_inout_moving = seoul_only_moving\n",
    "seoul_inout_moving[['출발 시군구 코드','도착 시군구 코드']] = seoul_inout_moving[['출발 시군구 코드','도착 시군구 코드']].astype('string')"
   ]
  },
  {
   "cell_type": "code",
   "execution_count": 15,
   "id": "gKzSh1jFvx-7",
   "metadata": {
    "colab": {
     "base_uri": "https://localhost:8080/"
    },
    "id": "gKzSh1jFvx-7",
    "outputId": "c3dbc05e-d92d-4c1d-aa0e-fb5d23a01ca7"
   },
   "outputs": [
    {
     "name": "stdout",
     "output_type": "stream",
     "text": [
      "<class 'pandas.core.frame.DataFrame'>\n",
      "Int64Index: 10655895 entries, 0 to 920414\n",
      "Data columns (total 10 columns):\n",
      " #   Column       Dtype  \n",
      "---  ------       -----  \n",
      " 0   대상연월         int64  \n",
      " 1   요일           object \n",
      " 2   도착시간         int64  \n",
      " 3   출발 시군구 코드    string \n",
      " 4   도착 시군구 코드    string \n",
      " 5   성별           object \n",
      " 6   나이           int64  \n",
      " 7   이동유형         object \n",
      " 8   평균 이동 시간(분)  int64  \n",
      " 9   이동인구(합)      float64\n",
      "dtypes: float64(1), int64(4), object(3), string(2)\n",
      "memory usage: 894.3+ MB\n"
     ]
    }
   ],
   "source": [
    "seoul_inout_moving.info()"
   ]
  },
  {
   "cell_type": "code",
   "execution_count": 16,
   "id": "38564819",
   "metadata": {
    "colab": {
     "base_uri": "https://localhost:8080/"
    },
    "id": "38564819",
    "outputId": "a5b1a90a-407e-4343-d06c-8df9ed86dc30"
   },
   "outputs": [
    {
     "name": "stderr",
     "output_type": "stream",
     "text": [
      "C:\\Users\\Public\\Documents\\ESTsoft\\CreatorTemp\\ipykernel_22288\\2895671626.py:2: SettingWithCopyWarning: \n",
      "A value is trying to be set on a copy of a slice from a DataFrame.\n",
      "Try using .loc[row_indexer,col_indexer] = value instead\n",
      "\n",
      "See the caveats in the documentation: https://pandas.pydata.org/pandas-docs/stable/user_guide/indexing.html#returning-a-view-versus-a-copy\n",
      "  seoul_inout_moving['출발 시군구 코드'] = seoul_inout_moving['출발 시군구 코드'].map({\n"
     ]
    }
   ],
   "source": [
    "# 아래에 실습코드를 작성하고 결과를 확인합니다.\n",
    "seoul_inout_moving['출발 시군구 코드'] = seoul_inout_moving['출발 시군구 코드'].map({\n",
    "'11010' : '종로구',\n",
    "'11020' : '중구',\n",
    "'11030' : '용산구',\n",
    "'11040' : '성동구',\n",
    "'11050' : '광진구',\n",
    "'11060' : '동대문구',\n",
    "'11070' : '중랑구',\n",
    "'11080' : '성북구',\n",
    "'11090' : '강북구',\n",
    "'11100' : '도봉구',\n",
    "'11110' : '노원구',\n",
    "'11120' : '은평구',\n",
    "'11130' : '서대문구',\n",
    "'11140' : '마포구',\n",
    "'11150' : '양천구',\n",
    "'11160' : '강서구',\n",
    "'11170' : '구로구',\n",
    "'11180' : '금천구',\n",
    "'11190' : '영등포구',\n",
    "'11200' : '동작구',\n",
    "'11210' : '관악구',\n",
    "'11220' : '서초구',\n",
    "'11230' : '강남구',\n",
    "'11240' : '송파구',\n",
    "'11250' : '강동구'})\n"
   ]
  },
  {
   "cell_type": "code",
   "execution_count": 17,
   "id": "Ks8pKlYFwrGV",
   "metadata": {
    "colab": {
     "base_uri": "https://localhost:8080/"
    },
    "id": "Ks8pKlYFwrGV",
    "outputId": "39a08c4d-7c32-4ba2-f646-b4a800cf0d45"
   },
   "outputs": [
    {
     "name": "stderr",
     "output_type": "stream",
     "text": [
      "C:\\Users\\Public\\Documents\\ESTsoft\\CreatorTemp\\ipykernel_22288\\1993572262.py:2: SettingWithCopyWarning: \n",
      "A value is trying to be set on a copy of a slice from a DataFrame.\n",
      "Try using .loc[row_indexer,col_indexer] = value instead\n",
      "\n",
      "See the caveats in the documentation: https://pandas.pydata.org/pandas-docs/stable/user_guide/indexing.html#returning-a-view-versus-a-copy\n",
      "  seoul_inout_moving['도착 시군구 코드'] = seoul_inout_moving['도착 시군구 코드'].map({\n"
     ]
    }
   ],
   "source": [
    "# 아래에 실습코드를 작성하고 결과를 확인합니다.\n",
    "seoul_inout_moving['도착 시군구 코드'] = seoul_inout_moving['도착 시군구 코드'].map({\n",
    "'11010' : '종로구',\n",
    "'11020' : '중구',\n",
    "'11030' : '용산구',\n",
    "'11040' : '성동구',\n",
    "'11050' : '광진구',\n",
    "'11060' : '동대문구',\n",
    "'11070' : '중랑구',\n",
    "'11080' : '성북구',\n",
    "'11090' : '강북구',\n",
    "'11100' : '도봉구',\n",
    "'11110' : '노원구',\n",
    "'11120' : '은평구',\n",
    "'11130' : '서대문구',\n",
    "'11140' : '마포구',\n",
    "'11150' : '양천구',\n",
    "'11160' : '강서구',\n",
    "'11170' : '구로구',\n",
    "'11180' : '금천구',\n",
    "'11190' : '영등포구',\n",
    "'11200' : '동작구',\n",
    "'11210' : '관악구',\n",
    "'11220' : '서초구',\n",
    "'11230' : '강남구',\n",
    "'11240' : '송파구',\n",
    "'11250' : '강동구'})"
   ]
  },
  {
   "cell_type": "code",
   "execution_count": 18,
   "id": "5b74bb6d",
   "metadata": {
    "colab": {
     "base_uri": "https://localhost:8080/"
    },
    "id": "5b74bb6d",
    "outputId": "766c63b3-9986-41b3-bfdc-0c39fc8cb70c"
   },
   "outputs": [
    {
     "name": "stdout",
     "output_type": "stream",
     "text": [
      "          대상연월 요일  도착시간 출발 시군구 코드 도착 시군구 코드 성별  나이 이동유형  평균 이동 시간(분)  이동인구(합)\n",
      "0       202204  일     0       종로구       종로구  F   0   EE           10    28.02\n",
      "1       202204  일     0       종로구       종로구  F   0   EH           10    27.52\n",
      "2       202204  일     0       종로구       종로구  F   0   HE           10    27.83\n",
      "3       202204  일     0       종로구       종로구  F  10   HW           10     6.05\n",
      "4       202204  일     0       종로구       종로구  F  10   EH           90     5.95\n",
      "...        ... ..   ...       ...       ... ..  ..  ...          ...      ...\n",
      "920410  202204  토    23       강동구       강동구  M  80   WH           10    85.10\n",
      "920411  202204  토    23       강동구       강동구  M  80   EH           10    28.36\n",
      "920412  202204  토    23       강동구       강동구  M  80   EE           20    37.99\n",
      "920413  202204  토    23       강동구       강동구  M  80   HE           10     9.42\n",
      "920414  202204  토    23       강동구       강동구  M  80   WE           10     9.51\n",
      "\n",
      "[10655895 rows x 10 columns]\n"
     ]
    }
   ],
   "source": [
    "# 아래에 실습코드를 작성하고 결과를 확인합니다.\n",
    "print(seoul_inout_moving)\n",
    "seoul_afternoon_moving = seoul_inout_moving"
   ]
  },
  {
   "cell_type": "code",
   "execution_count": 19,
   "id": "MBEM9KQ2w2-r",
   "metadata": {
    "colab": {
     "base_uri": "https://localhost:8080/"
    },
    "id": "MBEM9KQ2w2-r",
    "outputId": "3ef3e8db-3da2-4459-ed89-8d007e216567"
   },
   "outputs": [
    {
     "name": "stdout",
     "output_type": "stream",
     "text": [
      "['EE' 'EH' 'HE' 'HW' 'WH' 'HH' 'WW' 'WE' 'EW']\n"
     ]
    }
   ],
   "source": [
    "print(seoul_inout_moving['이동유형'].unique())"
   ]
  },
  {
   "cell_type": "code",
   "execution_count": null,
   "id": "CaAc-Y4ReurE",
   "metadata": {
    "id": "CaAc-Y4ReurE"
   },
   "outputs": [],
   "source": [
    "##seoul_inout_moving.groupby('이동유형')['요일'].sum().sort_values(by='index')\n",
    "#seoul_inout_moving_in = seoul_inout_moving.groupby('도착 시군구 코드')['이동인구(합)'].sum().sort_values(ascending = False)\n"
   ]
  },
  {
   "cell_type": "code",
   "execution_count": null,
   "id": "UZMJ7oIZ_cXw",
   "metadata": {
    "colab": {
     "base_uri": "https://localhost:8080/"
    },
    "id": "UZMJ7oIZ_cXw",
    "outputId": "d2591e6d-5746-426f-c4b4-c28572a475ef"
   },
   "outputs": [],
   "source": [
    "##seoul_inout_moving_temp = seoul_inout_moving\n",
    "##print(seoul_inout_moving_temp)"
   ]
  },
  {
   "cell_type": "code",
   "execution_count": null,
   "id": "vJYyhTfN0WzN",
   "metadata": {
    "colab": {
     "base_uri": "https://localhost:8080/"
    },
    "id": "vJYyhTfN0WzN",
    "outputId": "67d9a03b-a6ab-4859-a07c-0d629fb68d0d"
   },
   "outputs": [],
   "source": [
    "##condition2 = seoul_inout_moving[seoul_inout_moving['출발 시군구 코드'] == seoul_inout_moving['도착 시군구 코드']].index\n",
    "##seoul_inout_moving.drop(condition2, inplace=True)\n",
    "##print(seoul_inout_moving)"
   ]
  },
  {
   "cell_type": "code",
   "execution_count": null,
   "id": "pcDwWVcJCDZB",
   "metadata": {
    "id": "pcDwWVcJCDZB"
   },
   "outputs": [],
   "source": [
    "#print(condition)\n",
    "#print(condition2)\n",
    "#condition3 = (seoul_inout_moving_temp['출발 시군구 코드'] == seoul_inout_moving_temp['도착 시군구 코드'])\n",
    "#print(condition3)\n",
    "#seoul_inout_moving_inin = seoul_inout_moving_temp.drop(seoul_inout_moving_temp['출발 시군구 코드'] != seoul_inout_moving_temp['도착 시군구 코드'])\n",
    "#seoul_inout_moving_inin = seoul_inout_moving_temp[condition4]\n",
    "\n",
    "#print(seoul_inout_moving_inin)"
   ]
  },
  {
   "cell_type": "code",
   "execution_count": null,
   "id": "OzA-Ug3b7k37",
   "metadata": {
    "colab": {
     "base_uri": "https://localhost:8080/"
    },
    "id": "OzA-Ug3b7k37",
    "outputId": "2a804874-2c71-45b9-c2c8-d46ea842918e"
   },
   "outputs": [],
   "source": [
    "##seoul_inout_moving_in = seoul_inout_moving.groupby('도착 시군구 코드')['이동인구(합)'].sum().sort_values(ascending = False)\n",
    "##print(seoul_inout_moving_in)\n"
   ]
  },
  {
   "cell_type": "code",
   "execution_count": null,
   "id": "cNoH3Pzq93Ud",
   "metadata": {
    "colab": {
     "base_uri": "https://localhost:8080/"
    },
    "id": "cNoH3Pzq93Ud",
    "outputId": "9df24b5c-0900-46ba-da20-1896f9a72300"
   },
   "outputs": [],
   "source": [
    "##seoul_inout_moving_out = seoul_inout_moving.groupby('출발 시군구 코드')['이동인구(합)'].sum().sort_values(ascending = False)\n",
    "##print(seoul_inout_moving_out)"
   ]
  },
  {
   "cell_type": "markdown",
   "id": "1ace49d0",
   "metadata": {
    "id": "1ace49d0"
   },
   "source": [
    "#### [실습문제8] 낮시간만 볼게요 심야버스 제외하겠습니다\n",
    "\n",
    "* 도착시간 0부터 4까지(0:00 ~ 4:59) 제거"
   ]
  },
  {
   "cell_type": "code",
   "execution_count": 20,
   "id": "d54050e1",
   "metadata": {
    "colab": {
     "base_uri": "https://localhost:8080/"
    },
    "id": "d54050e1",
    "outputId": "e8bee269-ae36-4029-b925-b5a88baf9ec5"
   },
   "outputs": [
    {
     "name": "stdout",
     "output_type": "stream",
     "text": [
      "          대상연월 요일  도착시간 출발 시군구 코드 도착 시군구 코드 성별  나이 이동유형  평균 이동 시간(분)  이동인구(합)\n",
      "0       202204  일     5       종로구       종로구  F  10   HE           10     5.96\n",
      "1       202204  일     5       종로구       종로구  F  10   WH           10     5.88\n",
      "2       202204  일     5       종로구       종로구  F  15   HE           10     4.06\n",
      "3       202204  일     5       종로구       종로구  F  15   EW           10     4.06\n",
      "4       202204  일     5       종로구       종로구  F  15   EH           10    10.08\n",
      "...        ... ..   ...       ...       ... ..  ..  ...          ...      ...\n",
      "920410  202204  토    23       강동구       강동구  M  80   WH           10    85.10\n",
      "920411  202204  토    23       강동구       강동구  M  80   EH           10    28.36\n",
      "920412  202204  토    23       강동구       강동구  M  80   EE           20    37.99\n",
      "920413  202204  토    23       강동구       강동구  M  80   HE           10     9.42\n",
      "920414  202204  토    23       강동구       강동구  M  80   WE           10     9.51\n",
      "\n",
      "[9555938 rows x 10 columns]\n",
      "요일\n",
      "토    5190140.14\n",
      "금    4170963.57\n",
      "일    3514501.96\n",
      "목    3279650.58\n",
      "수    3172373.95\n",
      "화    3005079.60\n",
      "월    2479756.17\n",
      "Name: 이동인구(합), dtype: float64\n"
     ]
    }
   ],
   "source": [
    "# 아래에 실습코드를 작성하고 결과를 확인합니다.\n",
    "seoul_afternoon_moving = seoul_afternoon_moving.loc[seoul_inout_moving['도착시간']>4]\n",
    "print(seoul_afternoon_moving)\n",
    "seoul_afternoon_moving_sum = seoul_midnight_moving.groupby('요일')['이동인구(합)'].sum().sort_values(ascending = False)\n",
    "print(seoul_afternoon_moving_sum)"
   ]
  },
  {
   "cell_type": "markdown",
   "id": "bff8a6d6",
   "metadata": {
    "id": "bff8a6d6"
   },
   "source": [
    "#### [실습문제9] '도착 시군구 코드' 를 기준으로 각 구별로 '평균 이동 시간(분)' , '이동인구(합)' 의 평균 과 합을 구해보겠습니다\n",
    "\n",
    "* groupby 사용, as_index=False로 설정해주세요"
   ]
  },
  {
   "cell_type": "code",
   "execution_count": 21,
   "id": "7783e416",
   "metadata": {
    "colab": {
     "base_uri": "https://localhost:8080/"
    },
    "id": "7783e416",
    "outputId": "8d47e28e-3cfd-4444-cdd1-7d560a24a5e2"
   },
   "outputs": [
    {
     "name": "stdout",
     "output_type": "stream",
     "text": [
      "          대상연월 요일  도착시간 출발 시군구 코드 도착 시군구 코드 성별  나이 이동유형  평균 이동 시간(분)  이동인구(합)\n",
      "0       202204  일     5       종로구       종로구  F  10   HE           10     5.96\n",
      "1       202204  일     5       종로구       종로구  F  10   WH           10     5.88\n",
      "2       202204  일     5       종로구       종로구  F  15   HE           10     4.06\n",
      "3       202204  일     5       종로구       종로구  F  15   EW           10     4.06\n",
      "4       202204  일     5       종로구       종로구  F  15   EH           10    10.08\n",
      "...        ... ..   ...       ...       ... ..  ..  ...          ...      ...\n",
      "920410  202204  토    23       강동구       강동구  M  80   WH           10    85.10\n",
      "920411  202204  토    23       강동구       강동구  M  80   EH           10    28.36\n",
      "920412  202204  토    23       강동구       강동구  M  80   EE           20    37.99\n",
      "920413  202204  토    23       강동구       강동구  M  80   HE           10     9.42\n",
      "920414  202204  토    23       강동구       강동구  M  80   WE           10     9.51\n",
      "\n",
      "[9555938 rows x 10 columns]\n"
     ]
    }
   ],
   "source": [
    "# 아래에 실습코드를 작성하고 결과를 확인합니다.\n",
    "print(seoul_afternoon_moving)"
   ]
  },
  {
   "cell_type": "code",
   "execution_count": 22,
   "id": "86bd27f5",
   "metadata": {
    "id": "86bd27f5"
   },
   "outputs": [],
   "source": [
    "# 아래에 실습코드를 작성하고 결과를 확인합니다.\n",
    "df1 = seoul_afternoon_moving.groupby('도착 시군구 코드',as_index=False).agg(각구별평균이동시간 = ('평균 이동 시간(분)','mean'))\n",
    "df2 = seoul_afternoon_moving.groupby('도착 시군구 코드',as_index=False).agg(각구별이동시간의합 = ('평균 이동 시간(분)','sum'))\n",
    "df3 = seoul_afternoon_moving.groupby('도착 시군구 코드',as_index=False).agg(각구별평균이동인구 = ('이동인구(합)','mean'))\n",
    "df4 = seoul_afternoon_moving.groupby('도착 시군구 코드',as_index=False).agg(각구별이동인구의합 = ('이동인구(합)','sum'))"
   ]
  },
  {
   "cell_type": "code",
   "execution_count": 23,
   "id": "cb213b3a",
   "metadata": {
    "id": "cb213b3a"
   },
   "outputs": [],
   "source": [
    "# 파일을 합쳐볼까요\n",
    "a = pd.merge(df1,df2,how='inner', on='도착 시군구 코드')\n",
    "b = pd.merge(a,df3,how='inner', on='도착 시군구 코드')\n",
    "df = pd.merge(b,df4,how='inner', on='도착 시군구 코드')"
   ]
  },
  {
   "cell_type": "code",
   "execution_count": 24,
   "id": "ba6d898c",
   "metadata": {},
   "outputs": [
    {
     "data": {
      "text/html": [
       "<div>\n",
       "<style scoped>\n",
       "    .dataframe tbody tr th:only-of-type {\n",
       "        vertical-align: middle;\n",
       "    }\n",
       "\n",
       "    .dataframe tbody tr th {\n",
       "        vertical-align: top;\n",
       "    }\n",
       "\n",
       "    .dataframe thead th {\n",
       "        text-align: right;\n",
       "    }\n",
       "</style>\n",
       "<table border=\"1\" class=\"dataframe\">\n",
       "  <thead>\n",
       "    <tr style=\"text-align: right;\">\n",
       "      <th></th>\n",
       "      <th>도착 시군구 코드</th>\n",
       "      <th>각구별평균이동시간</th>\n",
       "      <th>각구별이동시간의합</th>\n",
       "      <th>각구별평균이동인구</th>\n",
       "      <th>각구별이동인구의합</th>\n",
       "    </tr>\n",
       "  </thead>\n",
       "  <tbody>\n",
       "    <tr>\n",
       "      <th>0</th>\n",
       "      <td>강남구</td>\n",
       "      <td>23.094565</td>\n",
       "      <td>11437560</td>\n",
       "      <td>90.199788</td>\n",
       "      <td>44671354.93</td>\n",
       "    </tr>\n",
       "    <tr>\n",
       "      <th>1</th>\n",
       "      <td>강동구</td>\n",
       "      <td>25.670084</td>\n",
       "      <td>8430800</td>\n",
       "      <td>64.203532</td>\n",
       "      <td>21086301.83</td>\n",
       "    </tr>\n",
       "    <tr>\n",
       "      <th>2</th>\n",
       "      <td>강북구</td>\n",
       "      <td>23.811274</td>\n",
       "      <td>7649610</td>\n",
       "      <td>39.083595</td>\n",
       "      <td>12555995.80</td>\n",
       "    </tr>\n",
       "    <tr>\n",
       "      <th>3</th>\n",
       "      <td>강서구</td>\n",
       "      <td>25.124068</td>\n",
       "      <td>9388010</td>\n",
       "      <td>58.407466</td>\n",
       "      <td>21824884.06</td>\n",
       "    </tr>\n",
       "    <tr>\n",
       "      <th>4</th>\n",
       "      <td>관악구</td>\n",
       "      <td>23.377928</td>\n",
       "      <td>8772170</td>\n",
       "      <td>49.864162</td>\n",
       "      <td>18710679.04</td>\n",
       "    </tr>\n",
       "    <tr>\n",
       "      <th>5</th>\n",
       "      <td>광진구</td>\n",
       "      <td>22.474283</td>\n",
       "      <td>8625540</td>\n",
       "      <td>46.725608</td>\n",
       "      <td>17933101.49</td>\n",
       "    </tr>\n",
       "    <tr>\n",
       "      <th>6</th>\n",
       "      <td>구로구</td>\n",
       "      <td>22.933748</td>\n",
       "      <td>7946750</td>\n",
       "      <td>41.699255</td>\n",
       "      <td>14449167.15</td>\n",
       "    </tr>\n",
       "    <tr>\n",
       "      <th>7</th>\n",
       "      <td>금천구</td>\n",
       "      <td>23.998944</td>\n",
       "      <td>6362000</td>\n",
       "      <td>30.547876</td>\n",
       "      <td>8098089.24</td>\n",
       "    </tr>\n",
       "    <tr>\n",
       "      <th>8</th>\n",
       "      <td>노원구</td>\n",
       "      <td>24.029515</td>\n",
       "      <td>8975240</td>\n",
       "      <td>55.144219</td>\n",
       "      <td>20596862.03</td>\n",
       "    </tr>\n",
       "    <tr>\n",
       "      <th>9</th>\n",
       "      <td>도봉구</td>\n",
       "      <td>24.489976</td>\n",
       "      <td>6995880</td>\n",
       "      <td>37.834944</td>\n",
       "      <td>10808043.75</td>\n",
       "    </tr>\n",
       "    <tr>\n",
       "      <th>10</th>\n",
       "      <td>동대문구</td>\n",
       "      <td>21.673451</td>\n",
       "      <td>8838130</td>\n",
       "      <td>39.906645</td>\n",
       "      <td>16273371.28</td>\n",
       "    </tr>\n",
       "    <tr>\n",
       "      <th>11</th>\n",
       "      <td>동작구</td>\n",
       "      <td>21.867593</td>\n",
       "      <td>8408680</td>\n",
       "      <td>40.953235</td>\n",
       "      <td>15747624.46</td>\n",
       "    </tr>\n",
       "    <tr>\n",
       "      <th>12</th>\n",
       "      <td>마포구</td>\n",
       "      <td>22.044201</td>\n",
       "      <td>9494790</td>\n",
       "      <td>54.853590</td>\n",
       "      <td>23626318.80</td>\n",
       "    </tr>\n",
       "    <tr>\n",
       "      <th>13</th>\n",
       "      <td>서대문구</td>\n",
       "      <td>22.026816</td>\n",
       "      <td>8465390</td>\n",
       "      <td>42.378435</td>\n",
       "      <td>16286964.89</td>\n",
       "    </tr>\n",
       "    <tr>\n",
       "      <th>14</th>\n",
       "      <td>서초구</td>\n",
       "      <td>22.831643</td>\n",
       "      <td>10291660</td>\n",
       "      <td>64.107593</td>\n",
       "      <td>28897331.08</td>\n",
       "    </tr>\n",
       "    <tr>\n",
       "      <th>15</th>\n",
       "      <td>성동구</td>\n",
       "      <td>21.740324</td>\n",
       "      <td>8887140</td>\n",
       "      <td>42.650995</td>\n",
       "      <td>17435129.45</td>\n",
       "    </tr>\n",
       "    <tr>\n",
       "      <th>16</th>\n",
       "      <td>성북구</td>\n",
       "      <td>22.160283</td>\n",
       "      <td>9072420</td>\n",
       "      <td>45.779468</td>\n",
       "      <td>18742114.35</td>\n",
       "    </tr>\n",
       "    <tr>\n",
       "      <th>17</th>\n",
       "      <td>송파구</td>\n",
       "      <td>25.429707</td>\n",
       "      <td>10610520</td>\n",
       "      <td>83.460107</td>\n",
       "      <td>34823646.05</td>\n",
       "    </tr>\n",
       "    <tr>\n",
       "      <th>18</th>\n",
       "      <td>양천구</td>\n",
       "      <td>22.793734</td>\n",
       "      <td>7379950</td>\n",
       "      <td>46.500619</td>\n",
       "      <td>15055552.06</td>\n",
       "    </tr>\n",
       "    <tr>\n",
       "      <th>19</th>\n",
       "      <td>영등포구</td>\n",
       "      <td>21.615227</td>\n",
       "      <td>9581360</td>\n",
       "      <td>56.384301</td>\n",
       "      <td>24993412.60</td>\n",
       "    </tr>\n",
       "    <tr>\n",
       "      <th>20</th>\n",
       "      <td>용산구</td>\n",
       "      <td>21.364786</td>\n",
       "      <td>8514380</td>\n",
       "      <td>36.868280</td>\n",
       "      <td>14692894.37</td>\n",
       "    </tr>\n",
       "    <tr>\n",
       "      <th>21</th>\n",
       "      <td>은평구</td>\n",
       "      <td>24.611578</td>\n",
       "      <td>8077520</td>\n",
       "      <td>50.214061</td>\n",
       "      <td>16480254.81</td>\n",
       "    </tr>\n",
       "    <tr>\n",
       "      <th>22</th>\n",
       "      <td>종로구</td>\n",
       "      <td>21.349599</td>\n",
       "      <td>9356120</td>\n",
       "      <td>44.203753</td>\n",
       "      <td>19371587.60</td>\n",
       "    </tr>\n",
       "    <tr>\n",
       "      <th>23</th>\n",
       "      <td>중구</td>\n",
       "      <td>21.012462</td>\n",
       "      <td>9306020</td>\n",
       "      <td>44.484487</td>\n",
       "      <td>19701334.11</td>\n",
       "    </tr>\n",
       "    <tr>\n",
       "      <th>24</th>\n",
       "      <td>중랑구</td>\n",
       "      <td>23.412789</td>\n",
       "      <td>7939300</td>\n",
       "      <td>40.968647</td>\n",
       "      <td>13892509.09</td>\n",
       "    </tr>\n",
       "  </tbody>\n",
       "</table>\n",
       "</div>"
      ],
      "text/plain": [
       "   도착 시군구 코드  각구별평균이동시간  각구별이동시간의합  각구별평균이동인구    각구별이동인구의합\n",
       "0        강남구  23.094565   11437560  90.199788  44671354.93\n",
       "1        강동구  25.670084    8430800  64.203532  21086301.83\n",
       "2        강북구  23.811274    7649610  39.083595  12555995.80\n",
       "3        강서구  25.124068    9388010  58.407466  21824884.06\n",
       "4        관악구  23.377928    8772170  49.864162  18710679.04\n",
       "5        광진구  22.474283    8625540  46.725608  17933101.49\n",
       "6        구로구  22.933748    7946750  41.699255  14449167.15\n",
       "7        금천구  23.998944    6362000  30.547876   8098089.24\n",
       "8        노원구  24.029515    8975240  55.144219  20596862.03\n",
       "9        도봉구  24.489976    6995880  37.834944  10808043.75\n",
       "10      동대문구  21.673451    8838130  39.906645  16273371.28\n",
       "11       동작구  21.867593    8408680  40.953235  15747624.46\n",
       "12       마포구  22.044201    9494790  54.853590  23626318.80\n",
       "13      서대문구  22.026816    8465390  42.378435  16286964.89\n",
       "14       서초구  22.831643   10291660  64.107593  28897331.08\n",
       "15       성동구  21.740324    8887140  42.650995  17435129.45\n",
       "16       성북구  22.160283    9072420  45.779468  18742114.35\n",
       "17       송파구  25.429707   10610520  83.460107  34823646.05\n",
       "18       양천구  22.793734    7379950  46.500619  15055552.06\n",
       "19      영등포구  21.615227    9581360  56.384301  24993412.60\n",
       "20       용산구  21.364786    8514380  36.868280  14692894.37\n",
       "21       은평구  24.611578    8077520  50.214061  16480254.81\n",
       "22       종로구  21.349599    9356120  44.203753  19371587.60\n",
       "23        중구  21.012462    9306020  44.484487  19701334.11\n",
       "24       중랑구  23.412789    7939300  40.968647  13892509.09"
      ]
     },
     "execution_count": 24,
     "metadata": {},
     "output_type": "execute_result"
    }
   ],
   "source": [
    "df.head(25)"
   ]
  },
  {
   "cell_type": "code",
   "execution_count": 25,
   "id": "ed56bd12",
   "metadata": {},
   "outputs": [
    {
     "name": "stdout",
     "output_type": "stream",
     "text": [
      "<class 'pandas.core.frame.DataFrame'>\n",
      "Int64Index: 25 entries, 0 to 24\n",
      "Data columns (total 5 columns):\n",
      " #   Column     Non-Null Count  Dtype  \n",
      "---  ------     --------------  -----  \n",
      " 0   도착 시군구 코드  25 non-null     object \n",
      " 1   각구별평균이동시간  25 non-null     float64\n",
      " 2   각구별이동시간의합  25 non-null     int64  \n",
      " 3   각구별평균이동인구  25 non-null     float64\n",
      " 4   각구별이동인구의합  25 non-null     float64\n",
      "dtypes: float64(3), int64(1), object(1)\n",
      "memory usage: 1.2+ KB\n"
     ]
    }
   ],
   "source": [
    "df.info()"
   ]
  },
  {
   "cell_type": "code",
   "execution_count": 26,
   "id": "b7389d07",
   "metadata": {
    "id": "b7389d07"
   },
   "outputs": [],
   "source": [
    "# 해당 데이터프레임을 'df_seoul_moving.csv' 파일로 저장하세요\n",
    "df.to_csv(\"df_seoul_moving.csv\", index = False)"
   ]
  },
  {
   "cell_type": "markdown",
   "id": "602b8bae",
   "metadata": {
    "id": "602b8bae"
   },
   "source": [
    "---"
   ]
  },
  {
   "cell_type": "code",
   "execution_count": 27,
   "id": "e8c56891",
   "metadata": {},
   "outputs": [
    {
     "name": "stdout",
     "output_type": "stream",
     "text": [
      "   도착 시군구 코드  각구별평균이동시간  각구별이동시간의합  각구별평균이동인구    각구별이동인구의합\n",
      "0        강남구  23.094565   11437560  90.199788  44671354.93\n",
      "1        강동구  25.670084    8430800  64.203532  21086301.83\n",
      "2        강북구  23.811274    7649610  39.083595  12555995.80\n",
      "3        강서구  25.124068    9388010  58.407466  21824884.06\n",
      "4        관악구  23.377928    8772170  49.864162  18710679.04\n",
      "5        광진구  22.474283    8625540  46.725608  17933101.49\n",
      "6        구로구  22.933748    7946750  41.699255  14449167.15\n",
      "7        금천구  23.998944    6362000  30.547876   8098089.24\n",
      "8        노원구  24.029515    8975240  55.144219  20596862.03\n",
      "9        도봉구  24.489976    6995880  37.834944  10808043.75\n",
      "10      동대문구  21.673451    8838130  39.906645  16273371.28\n",
      "11       동작구  21.867593    8408680  40.953235  15747624.46\n",
      "12       마포구  22.044201    9494790  54.853590  23626318.80\n",
      "13      서대문구  22.026816    8465390  42.378435  16286964.89\n",
      "14       서초구  22.831643   10291660  64.107593  28897331.08\n",
      "15       성동구  21.740324    8887140  42.650995  17435129.45\n",
      "16       성북구  22.160283    9072420  45.779468  18742114.35\n",
      "17       송파구  25.429707   10610520  83.460107  34823646.05\n",
      "18       양천구  22.793734    7379950  46.500619  15055552.06\n",
      "19      영등포구  21.615227    9581360  56.384301  24993412.60\n",
      "20       용산구  21.364786    8514380  36.868280  14692894.37\n",
      "21       은평구  24.611578    8077520  50.214061  16480254.81\n",
      "22       종로구  21.349599    9356120  44.203753  19371587.60\n",
      "23        중구  21.012462    9306020  44.484487  19701334.11\n",
      "24       중랑구  23.412789    7939300  40.968647  13892509.09\n"
     ]
    }
   ],
   "source": [
    "print(df)"
   ]
  },
  {
   "cell_type": "markdown",
   "id": "southeast-integration",
   "metadata": {
    "id": "southeast-integration"
   },
   "source": [
    "# 3.데이터 분석하기\n",
    "+ KeyPoint : 데이터의 형태를 살펴보고 다양한 분석기법을 통해 모델링에 적합하도록 정제요소를 선별할 수 있다.\n",
    "  * 데이터들의 패턴 탐색\n",
    "  * 변수들간의 관계 파악"
   ]
  },
  {
   "cell_type": "code",
   "execution_count": 28,
   "id": "194ae01d",
   "metadata": {
    "id": "194ae01d"
   },
   "outputs": [],
   "source": [
    "# 시각화 한글폰트 설정\n",
    "import seaborn as sns\n",
    "import matplotlib.pyplot as plt\n",
    "\n",
    "plt.rc('font', family='nanum')\n",
    "sns.set(font=\"HYGungSo-Bold\",#\"NanumGothicCoding\", \n",
    "        rc={\"axes.unicode_minus\":False}, # 마이너스 부호 깨짐 현상 해결\n",
    "        style='darkgrid')"
   ]
  },
  {
   "cell_type": "markdown",
   "id": "material-complex",
   "metadata": {
    "id": "material-complex"
   },
   "source": [
    "#### [실습문제10] 데이터 분포 알아보기\n",
    "* 다양한 변수를 기준으로 그래프를 그려보고 인사이트를 도출해보세요."
   ]
  },
  {
   "cell_type": "code",
   "execution_count": 29,
   "id": "2a610ade",
   "metadata": {
    "colab": {
     "base_uri": "https://localhost:8080/",
     "height": 811
    },
    "id": "2a610ade",
    "outputId": "11827dcc-be3e-434e-8f41-bafd60525512",
    "scrolled": true
   },
   "outputs": [
    {
     "data": {
      "text/plain": [
       "<AxesSubplot:xlabel='도착 시군구 코드', ylabel='각구별평균이동시간'>"
      ]
     },
     "execution_count": 29,
     "metadata": {},
     "output_type": "execute_result"
    },
    {
     "data": {
      "image/png": "[encoded data removed]",
      "text/plain": [
       "<Figure size 2000x400 with 1 Axes>"
      ]
     },
     "metadata": {},
     "output_type": "display_data"
    }
   ],
   "source": [
    "# 아래에 실습코드를 작성하고 결과를 확인합니다.\n",
    "plt.figure(figsize=(20,4))\n",
    "sns.lineplot(data = df, x='도착 시군구 코드', y='각구별평균이동시간' )"
   ]
  },
  {
   "cell_type": "code",
   "execution_count": null,
   "id": "ce0af14b",
   "metadata": {
    "id": "ce0af14b"
   },
   "outputs": [],
   "source": [
    "# 아래에 실습코드를 작성하고 결과를 확인합니다."
   ]
  },
  {
   "cell_type": "code",
   "execution_count": null,
   "id": "8cc4598f",
   "metadata": {
    "id": "8cc4598f"
   },
   "outputs": [],
   "source": [
    "# 아래에 실습코드를 작성하고 결과를 확인합니다."
   ]
  },
  {
   "cell_type": "code",
   "execution_count": null,
   "id": "a360d86c",
   "metadata": {
    "id": "a360d86c"
   },
   "outputs": [],
   "source": [
    "# 위 차트를 통해 알게된 사실을 정리해봅시다.\n",
    "# 1. \n",
    "# 2.\n",
    "# 3."
   ]
  },
  {
   "cell_type": "markdown",
   "id": "ca567b34",
   "metadata": {
    "id": "ca567b34"
   },
   "source": [
    "---"
   ]
  }
 ],
 "metadata": {
  "colab": {
   "collapsed_sections": [],
   "provenance": []
  },
  "kernelspec": {
   "display_name": "Python 3 (ipykernel)",
   "language": "python",
   "name": "python3"
  },
  "language_info": {
   "codemirror_mode": {
    "name": "ipython",
    "version": 3
   },
   "file_extension": ".py",
   "mimetype": "text/x-python",
   "name": "python",
   "nbconvert_exporter": "python",
   "pygments_lexer": "ipython3",
   "version": "3.9.13"
  },
  "vscode": {
   "interpreter": {
    "hash": "f08154012ddadd8e950e6e9e035c7a7b32c136e7647e9b7c77e02eb723a8bedb"
   }
  }
 },
 "nbformat": 4,
 "nbformat_minor": 5
}
